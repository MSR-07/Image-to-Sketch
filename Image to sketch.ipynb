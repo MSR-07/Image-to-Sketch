{
 "cells": [
  {
   "cell_type": "code",
   "execution_count": 1,
   "id": "57f52f20",
   "metadata": {},
   "outputs": [],
   "source": [
    "import numpy as np\n",
    "import imageio.v2\n",
    "import scipy.ndimage as spy\n",
    "import cv2"
   ]
  },
  {
   "cell_type": "code",
   "execution_count": 5,
   "id": "5988b195",
   "metadata": {},
   "outputs": [],
   "source": [
    "# take image input and assign variable to it\n",
    "img = \"boy.jpeg\"\n",
    "  \n",
    "# function to convert image into sketch\n",
    "def rgb2gray(rgb):\n",
    "    # 2 dimensional array to convert image to sketch\n",
    "    return np.dot(rgb[..., :6], [0.2989, 0.5870, .1140])"
   ]
  },
  {
   "cell_type": "code",
   "execution_count": 6,
   "id": "9b3f9eba",
   "metadata": {},
   "outputs": [
    {
     "name": "stderr",
     "output_type": "stream",
     "text": [
      "C:\\Windows\\Temp\\ipykernel_30980\\1452629527.py:17: DeprecationWarning: Please use `gaussian_filter` from the `scipy.ndimage` namespace, the `scipy.ndimage.filters` namespace is deprecated.\n",
      "  b = spy.filters.gaussian_filter(i, sigma=10)\n"
     ]
    },
    {
     "data": {
      "text/plain": [
       "True"
      ]
     },
     "execution_count": 6,
     "metadata": {},
     "output_type": "execute_result"
    }
   ],
   "source": [
    "def dodge(front, back):\n",
    " \n",
    "    fS = front*255/(255-back)\n",
    "    fS[fS > 255] = 255\n",
    "    fS[back == 255] = 255\n",
    " \n",
    "    \n",
    "    return fS.astype('uint8')\n",
    " \n",
    " \n",
    "S = imageio.v2.imread(img)\n",
    "g = rgb2gray(S)\n",
    " \n",
    "i = 255-g\n",
    " \n",
    " \n",
    "b = spy.filters.gaussian_filter(i, sigma=10)\n",
    "\n",
    "r = dodge(b, g)\n",
    " \n",
    " \n",
    "cv2.imwrite('Sketch.png', r)"
   ]
  },
  {
   "cell_type": "code",
   "execution_count": null,
   "id": "b19e6481",
   "metadata": {},
   "outputs": [],
   "source": []
  },
  {
   "cell_type": "code",
   "execution_count": null,
   "id": "9e63d346",
   "metadata": {},
   "outputs": [],
   "source": []
  }
 ],
 "metadata": {
  "kernelspec": {
   "display_name": "Python 3",
   "language": "python",
   "name": "python3"
  },
  "language_info": {
   "codemirror_mode": {
    "name": "ipython",
    "version": 3
   },
   "file_extension": ".py",
   "mimetype": "text/x-python",
   "name": "python",
   "nbconvert_exporter": "python",
   "pygments_lexer": "ipython3",
   "version": "3.10.1"
  },
  "vscode": {
   "interpreter": {
    "hash": "ccf5ee4714193cc84016d40695d1a864d91a80038639be94bc3daf0c5208a6da"
   }
  }
 },
 "nbformat": 4,
 "nbformat_minor": 5
}
